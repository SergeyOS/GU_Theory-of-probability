{
 "cells": [
  {
   "cell_type": "markdown",
   "metadata": {},
   "source": [
    "Тема проектной работы \"Влияние опыта режиссёра на результат картины\".\n",
    "\n",
    "Исходные данные: \n",
    "1. https://datasets.imdbws.com (база по фильмам),  \n",
    "2. https://www.kaggle.com/rounakbanik/the-movies-dataset (выборка по фильмам с информацией о финансах)\n",
    "\n",
    "Задача минимум: Проанализировать информацию о фильмах и проверить гипотезу \"Первый блин комом\" - первые фильмы режисеров не были удачными:  \n",
    "а) Рейтинг первых фильмов ниже среднего  \n",
    "б) Первый фильм не принес прибыли  \n",
    "\n",
    "Задача максимум: предсказать рейтинг фильма, основываясь на опыте режиссёра  "
   ]
  },
  {
   "cell_type": "code",
   "execution_count": null,
   "metadata": {},
   "outputs": [],
   "source": []
  }
 ],
 "metadata": {
  "kernelspec": {
   "display_name": "Python 3",
   "language": "python",
   "name": "python3"
  },
  "language_info": {
   "codemirror_mode": {
    "name": "ipython",
    "version": 3
   },
   "file_extension": ".py",
   "mimetype": "text/x-python",
   "name": "python",
   "nbconvert_exporter": "python",
   "pygments_lexer": "ipython3",
   "version": "3.7.1"
  }
 },
 "nbformat": 4,
 "nbformat_minor": 2
}
