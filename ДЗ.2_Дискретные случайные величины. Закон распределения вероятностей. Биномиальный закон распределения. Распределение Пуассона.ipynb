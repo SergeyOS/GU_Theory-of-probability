{
 "cells": [
  {
   "cell_type": "markdown",
   "metadata": {},
   "source": [
    "#### ДЗ к уроку 2. Дискретные случайные величины. Закон распределения вероятностей. Биномиальный закон распределения. Распределение Пуассона"
   ]
  },
  {
   "cell_type": "markdown",
   "metadata": {},
   "source": [
    "##### Задача 1\n",
    "Контрольная работа состоит из пяти вопросов. На каждый вопрос приведено четыре варианта ответа, один из которых правильный. Составьте закон распределения числа правильных ответов при простом угадывании. Найдите M(X), D(X)."
   ]
  },
  {
   "cell_type": "markdown",
   "metadata": {},
   "source": [
    "##### Решение:  "
   ]
  },
  {
   "cell_type": "markdown",
   "metadata": {},
   "source": [
    "1) Результат ответа на любой из вопросов не зависит от ответов на другие вопросы, т.е. события независимые.    \n",
    "2) Вероятность правильного ответа на любой из вопросов равна $$p = \\frac{1}{4}$$  \n",
    "3) Исходя из п.1. и п.2 распределение является Биномиальным.  Поэтому вероятности вычисляются по формуле Бернулли:  \n",
    "$$P_n(X=k) = C_n^k p^k q^{n-k}$$  \n",
    "где n = 5 - количеству вопросов,  \n",
    "k - количество верно отвеченных вопросов,  \n",
    "$q = 1 - p =  \\frac{3}{4}$"
   ]
  },
  {
   "cell_type": "markdown",
   "metadata": {},
   "source": [
    "$$P(X=0) = C_5^0 \\cdot (\\frac{1}{4})^0 \\cdot (\\frac{3}{4})^5=(\\frac{3}{4})^5=0.2373046875$$  "
   ]
  },
  {
   "cell_type": "markdown",
   "metadata": {},
   "source": [
    "$$P(X=1) = C_5^1 \\cdot (\\frac{1}{4})^1 \\cdot (\\frac{3}{4})^4 = 0.3955078125$$  "
   ]
  },
  {
   "cell_type": "markdown",
   "metadata": {},
   "source": [
    "$$P(X=2) = C_5^2 \\cdot (\\frac{1}{4})^2 \\cdot (\\frac{3}{4})^3=0.263671875$$  "
   ]
  },
  {
   "cell_type": "markdown",
   "metadata": {},
   "source": [
    "$$P(X=3) = C_5^3 \\cdot (\\frac{1}{4})^3 \\cdot (\\frac{3}{4})^2=0.087890625$$  "
   ]
  },
  {
   "cell_type": "markdown",
   "metadata": {},
   "source": [
    "$$P(X=4) = C_5^4 \\cdot (\\frac{1}{4})^4 \\cdot (\\frac{3}{4})^1=0.0146484375$$  "
   ]
  },
  {
   "cell_type": "markdown",
   "metadata": {},
   "source": [
    "$$P(X=5) = C_5^5 \\cdot (\\frac{1}{4})^5 \\cdot (\\frac{3}{4})^0=0.0009765625$$  "
   ]
  },
  {
   "cell_type": "markdown",
   "metadata": {},
   "source": [
    "##### Ответ:  \n",
    "Математическое ожидание и дисперсия биномиального распределения:  \n",
    "$$M(X) = np = 5 \\cdot \\frac{1}{4} = 1.25$$  \n",
    "$$D(X) = npq = 5 \\cdot \\frac{1}{4} \\cdot \\frac{3}{4} = 0.9375$$"
   ]
  },
  {
   "cell_type": "code",
   "execution_count": 1,
   "metadata": {},
   "outputs": [
    {
     "name": "stdout",
     "output_type": "stream",
     "text": [
      "P(X=0)=0.2373046875\n",
      "P(X=1)=0.3955078125\n",
      "P(X=2)=0.263671875\n",
      "P(X=3)=0.087890625\n",
      "P(X=4)=0.0146484375\n",
      "P(X=5)=0.0009765625\n",
      "Сумма всех вероятностей:1.0\n",
      "Матожидание:1.25\n",
      "Дисперсия:0.9375\n"
     ]
    }
   ],
   "source": [
    "import numpy as np\n",
    "N = 5\n",
    "PA = 0.25\n",
    "\n",
    "def combinations(n, k):\n",
    "    return np.math.factorial(n) // (np.math.factorial(k) * np.math.factorial(n - k))\n",
    "\n",
    "def P(x):\n",
    "    return combinations(N, x)*(PA)**x*(1 - PA)**(N-x)\n",
    "\n",
    "def M(x, p):\n",
    "    spam = 0\n",
    "    for i in range(len(x)):\n",
    "        spam += x[i]*p[i]\n",
    "    return spam\n",
    "\n",
    "def D(x, p):\n",
    "    m = M(x, p)\n",
    "    return  M((x - m)**2,p)\n",
    "\n",
    "def init_p(X):\n",
    "    p  =[]\n",
    "    for i in X:\n",
    "        p.append(P(i))\n",
    "    return p\n",
    "\n",
    "def print_p(X, p, start, end):\n",
    "    for i in X:\n",
    "        if i>=start and i<=end:\n",
    "            print(f'P(X={i})={p[i]}')\n",
    "\n",
    "X = np.arange(N+1)\n",
    "p = init_p(X)\n",
    "print_p(X,p,0, len(X)-1)\n",
    "print(f'Сумма всех вероятностей:{np.sum(p)}')\n",
    "m = M(X, p)\n",
    "print(f'Матожидание:{m}')\n",
    "d = D(X, p)\n",
    "print(f'Дисперсия:{d}')"
   ]
  },
  {
   "cell_type": "markdown",
   "metadata": {},
   "source": [
    "##### Задача 2  \n",
    "\n",
    "Вероятность попадания в цель при одном выстреле равна 0.01. Какова вероятность того, что число попаданий при 200 выстрелах будет не менее 5 и не более 10?"
   ]
  },
  {
   "cell_type": "markdown",
   "metadata": {},
   "source": [
    "##### Решение:"
   ]
  },
  {
   "cell_type": "markdown",
   "metadata": {},
   "source": [
    "1) Результат одного выстрела не влияет на результат другого, т.е. события независимые.    \n",
    "2) Вероятность попадания для любого выстрела равна $p = 0.01$  \n",
    "3) Исходя из п.1. и п.2 распределение является Биномиальным.  Поэтому вероятности вычисляются по формуле Бернулли:  \n",
    "$$P(X=k) = C_n^k p^k q^{n-k}$$  \n",
    "где n = 200 - количеству выстрелов,  \n",
    "k - количество попаданий,  \n",
    "q = 1 - p = 0.99.  \n",
    "Вероятность попадания не менее 5 и не более 10 равна сумме вероятностей событий(\"только 5 попаданий из 200\", \"только 6 попаданий из 200\",..., \"только 10 попаданий из 200\"), т.к. события несовместны. "
   ]
  },
  {
   "cell_type": "markdown",
   "metadata": {},
   "source": [
    "##### Ответ:"
   ]
  },
  {
   "cell_type": "markdown",
   "metadata": {},
   "source": [
    "$$P(X=5) = C_{200}^{5} \\cdot (0,01)^5 \\cdot (0.99)^{195}=0.03572335672160829$$  "
   ]
  },
  {
   "cell_type": "markdown",
   "metadata": {},
   "source": [
    "$$P(X=6) = C_{200}^{6} \\cdot (0,01)^6 \\cdot (0.99)^{194}=0.011727364580325954$$  "
   ]
  },
  {
   "cell_type": "markdown",
   "metadata": {},
   "source": [
    "$$P(X=7) = C_{200}^{7} \\cdot (0,01)^7 \\cdot (0.99)^{193}=0.0032829851783307863$$  "
   ]
  },
  {
   "cell_type": "markdown",
   "metadata": {},
   "source": [
    "$$P(X=8) = C_{200}^{8} \\cdot (0,01)^8 \\cdot (0.99)^{192}=0.0008000203780528306$$  "
   ]
  },
  {
   "cell_type": "markdown",
   "metadata": {},
   "source": [
    "$$P(X=9) = C_{200}^{9} \\cdot (0,01)^9 \\cdot (0.99)^{191}=0.000172394963620812$$ "
   ]
  },
  {
   "cell_type": "markdown",
   "metadata": {},
   "source": [
    "$$P(X=10) = C_{200}^{10} \\cdot (0,01)^{10} \\cdot (0.99)^{190}=3.326003843593443e-05$$  "
   ]
  },
  {
   "cell_type": "markdown",
   "metadata": {},
   "source": [
    "$$P(5<=X<=10) = P(X=5) + P(X=6) + P(X=7) + P(X=8) + P(X=9) + P(X=10)= 0.051739381860374606$$ "
   ]
  },
  {
   "cell_type": "code",
   "execution_count": 2,
   "metadata": {},
   "outputs": [
    {
     "name": "stdout",
     "output_type": "stream",
     "text": [
      "P(X=5)=0.03572335672160829\n",
      "P(X=6)=0.011727364580325954\n",
      "P(X=7)=0.0032829851783307863\n",
      "P(X=8)=0.0008000203780528306\n",
      "P(X=9)=0.000172394963620812\n",
      "P(X=10)=3.326003843593443e-05\n",
      "Сумма вероятностей попаданий не менее 5 и не более 10 равна :0.051739381860374606\n"
     ]
    }
   ],
   "source": [
    "N = 200 # количество выстрелов\n",
    "PA = 0.01 # вероятность попадания\n",
    "min_goal=5 # минимальное количество попаданий\n",
    "max_goal=10 # максимальное количество попаданий\n",
    "X = np.arange(N+1) # события \n",
    "p = init_p(X)\n",
    "print_p(X,p,min_goal,max_goal)\n",
    "print(f'Сумма вероятностей попаданий не менее {min_goal} и не более {max_goal} равна :{np.sum(p[min_goal:max_goal+1])}')"
   ]
  },
  {
   "cell_type": "markdown",
   "metadata": {},
   "source": [
    "##### Задача 3\n",
    "\n",
    "В условиях предыдущей задачи сколько выстрелов нужно сделать чтобы быть уверенным с вероятностью 0.9, что хотя бы 10 раз будет совершено попадание?\n",
    "\n",
    "Подсказка. Как посчитать P(X >= k) для величины X, имеющей распределение Пуассона? Здесь предстоит немножко покодить."
   ]
  },
  {
   "cell_type": "markdown",
   "metadata": {},
   "source": [
    "##### Решение:"
   ]
  },
  {
   "cell_type": "markdown",
   "metadata": {},
   "source": [
    "Вероятность попадания не менее 10 раз P(X >= 10) равна 1 - P(X < 10)  \n",
    "Формула Пуассона:\n",
    "$$P_m \\approx \\frac{\\lambda^m}{m!}e^{-\\lambda}$$  \n",
    "$λ = np$, перебирая n будем искать вероятность не ниже 0.9"
   ]
  },
  {
   "cell_type": "code",
   "execution_count": 5,
   "metadata": {},
   "outputs": [
    {
     "name": "stdout",
     "output_type": "stream",
     "text": [
      "При 1420.0 вероятность попаданий не менее 10 раз равна:0.8997364748565644\n",
      "При 1421.0 вероятность попаданий не менее 10 раз равна:0.9001760722984115\n",
      "При 1422.0 вероятность попаданий не менее 10 раз равна:0.9006140609380022\n"
     ]
    }
   ],
   "source": [
    "from scipy import optimize\n",
    "\n",
    "min_goal = 10# минимальное количество попаданий\n",
    "PA = 0.01 # вероятност попадания\n",
    "tol=1e-15 # точность оптимизации\n",
    "n = 200 # начальное значения количества выстрелов\n",
    "\n",
    "def P_more(n):\n",
    "    spam = 0\n",
    "    lambda_ = n * PA\n",
    "    for i in range(min_goal):\n",
    "         spam += (lambda_**i / np.math.factorial(i)) * np.exp(-lambda_)\n",
    "    return 1 - spam \n",
    "\n",
    "def f(n, tol = tol):\n",
    "    return (P_more(n) - 0.9 - tol)**2\n",
    "\n",
    "result = optimize.minimize(f, n, tol = tol)\n",
    "x = np.round(result.x[0])\n",
    "print(f'При {x-1} вероятность попаданий не менее 10 раз равна:{P_more(x-1)}')\n",
    "print(f'При {x} вероятность попаданий не менее 10 раз равна:{P_more(x)}')\n",
    "print(f'При {x+1} вероятность попаданий не менее 10 раз равна:{P_more(x+1)}')"
   ]
  },
  {
   "cell_type": "markdown",
   "metadata": {},
   "source": [
    "##### Ответ:\n",
    "Чтобы быть с вероятностью 0.9, тобы хотя бы 10 раз будет совершено попадание, необходимо сделать не менее 1421 выстрел"
   ]
  },
  {
   "cell_type": "code",
   "execution_count": null,
   "metadata": {},
   "outputs": [],
   "source": []
  }
 ],
 "metadata": {
  "kernelspec": {
   "display_name": "Python 3",
   "language": "python",
   "name": "python3"
  },
  "language_info": {
   "codemirror_mode": {
    "name": "ipython",
    "version": 3
   },
   "file_extension": ".py",
   "mimetype": "text/x-python",
   "name": "python",
   "nbconvert_exporter": "python",
   "pygments_lexer": "ipython3",
   "version": "3.7.1"
  }
 },
 "nbformat": 4,
 "nbformat_minor": 2
}
