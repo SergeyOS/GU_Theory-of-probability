{
 "cells": [
  {
   "cell_type": "markdown",
   "metadata": {},
   "source": [
    "##### Задача 1\n",
    "\n",
    "О непрерывной равномерно распределенной случайной величине B известно, что ее дисперсия равна 0.2. Можно ли найти правую границу величины B и ее среднее значение зная, что левая граница равна 0.5? Если да, найдите ее."
   ]
  },
  {
   "cell_type": "markdown",
   "metadata": {},
   "source": [
    "##### Решение:\n",
    "Т.к. у случайной величины распределение равномерное, то можной найти правую границу по формуле:\n",
    "$$D(B) = \\frac{(b - a)^2}{12}$$  \n",
    "$$b = \\sqrt{12 \\cdot D(B)} + a= \\sqrt{12 \\cdot 0.2} + 0.5 \\approx 2.05 $$"
   ]
  },
  {
   "cell_type": "markdown",
   "metadata": {},
   "source": [
    "$$M(B) = \\frac{a + b}{2} \\approx \\frac{0.5 + 2.05}{2} \\approx 1.275$$"
   ]
  },
  {
   "cell_type": "markdown",
   "metadata": {},
   "source": [
    "##### Задача 2\n",
    "\n",
    "На сколько сигм (средних квадратических отклонений) отклоняется рост человека, равный 190 см, от математического ожидания роста в популяции, в которой M(X) = 178 и D(X) = 25?"
   ]
  },
  {
   "cell_type": "markdown",
   "metadata": {},
   "source": [
    "##### Решение:\n",
    "Предполагаем, что рост человека подчиняется нормальному распределению. Тогда  \n",
    "$$\\sigma = \\sqrt{D(x)} = 5$$    \n"
   ]
  },
  {
   "cell_type": "markdown",
   "metadata": {},
   "source": [
    "Ответ: $$ \\frac{ 190 - M(X)}{\\sigma} = \\frac{190 - 178}{5} = 2.4 $$"
   ]
  },
  {
   "cell_type": "markdown",
   "metadata": {},
   "source": [
    "##### Задача 3\n",
    "\n",
    "Рост взрослого населения города X имеет нормальное распределение, причем, средний рост равен 174 см, а среднее квадратическое отклонение равно 8 см. Какова вероятность того, что случайным образом выбранный взрослый человек имеет рост:\n",
    "1. больше 182 см?\n",
    "2. больше 190 см?\n",
    "3. от 166 см до 190 см?\n",
    "4. от 166 см до 182 см?\n",
    "5. от 158 см до 190 см?\n",
    "6. не выше 150 см или не ниже 190 см?\n",
    "7. не выше 150 см или не ниже 198 см?\n",
    "8. ниже 166 см?"
   ]
  },
  {
   "cell_type": "code",
   "execution_count": 1,
   "metadata": {},
   "outputs": [],
   "source": [
    "import pandas as pd\n",
    "import numpy as np\n",
    "\n",
    "def edf(samples, x):\n",
    "    return samples[samples < x].shape[0] / samples.shape[0]\n",
    "    \n",
    "def pdf_normal(loc, scale, x):\n",
    "    return np.exp(- ((x - loc) ** 2) / (2 * scale ** 2)) / (scale * np.sqrt(2 * np.pi))"
   ]
  },
  {
   "cell_type": "code",
   "execution_count": 2,
   "metadata": {},
   "outputs": [
    {
     "name": "stdout",
     "output_type": "stream",
     "text": [
      "1. больше 182 см?:                     0.158304\n",
      "2. больше 190 см?:                     0.022716\n",
      "3. от 166 см до 190 см?:               0.818447\n",
      "4. от 166 см до 182 см?:               0.682859\n",
      "5. от 158 см до 190 см?:               0.954673\n",
      "6. не выше 150 см или не ниже 190 см?: 0.024051\n",
      "7. не выше 150 см или не ниже 198 см?: 0.002700\n",
      "8. ниже 166 см?:                       0.158837\n"
     ]
    }
   ],
   "source": [
    "loc = 174\n",
    "scale = 8\n",
    "samples = np.random.normal(loc, scale, size=1000000)\n",
    "#1. больше 182 см?\n",
    "p1 = 1 - edf(samples, 182)\n",
    "#2. больше 190 см?\n",
    "p2 = 1 - edf(samples, 190)\n",
    "#3. от 166 см до 190 см?\n",
    "p3 = edf(samples, 190) - edf(samples, 166)\n",
    "#4. от 166 см до 182 см?\n",
    "p4 = edf(samples, 182) - edf(samples, 166)\n",
    "#5. от 158 см до 190 см?\n",
    "p5 = edf(samples, 190) - edf(samples, 158)\n",
    "#6. не выше 150 см или не ниже 190 см?\n",
    "p6 = edf(samples, 150) + (1 - edf(samples, 190))\n",
    "#7. не выше 150 см или не ниже 198 см?\n",
    "p7 = edf(samples, 150) + (1 - edf(samples, 198))\n",
    "#8. ниже 166 см?\n",
    "p8 = edf(samples, 166)\n",
    "print(f'1. больше 182 см?:{p1:29f}')\n",
    "print(f'2. больше 190 см?:{p2:29f}')\n",
    "print(f'3. от 166 см до 190 см?:{p3:23f}')\n",
    "print(f'4. от 166 см до 182 см?:{p4:23f}')\n",
    "print(f'5. от 158 см до 190 см?:{p5:23f}')\n",
    "print(f'6. не выше 150 см или не ниже 190 см?:{p6:9f}')\n",
    "print(f'7. не выше 150 см или не ниже 198 см?:{p7:9f}')\n",
    "print(f'8. ниже 166 см?:{p8:31f}')"
   ]
  }
 ],
 "metadata": {
  "kernelspec": {
   "display_name": "Python 3",
   "language": "python",
   "name": "python3"
  },
  "language_info": {
   "codemirror_mode": {
    "name": "ipython",
    "version": 3
   },
   "file_extension": ".py",
   "mimetype": "text/x-python",
   "name": "python",
   "nbconvert_exporter": "python",
   "pygments_lexer": "ipython3",
   "version": "3.7.1"
  }
 },
 "nbformat": 4,
 "nbformat_minor": 2
}
